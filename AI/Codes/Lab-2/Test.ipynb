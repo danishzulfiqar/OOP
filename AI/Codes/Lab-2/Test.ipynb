{
 "cells": [
  {
   "cell_type": "code",
   "execution_count": 1,
   "metadata": {},
   "outputs": [
    {
     "name": "stdout",
     "output_type": "stream",
     "text": [
      "The given list is : \n",
      "['4', '65', '6', '66', '6']\n"
     ]
    }
   ],
   "source": [
    "myList = []\n",
    "\n",
    "for i in range(5):\n",
    "    val = input(\"Enter a value : \")\n",
    "    myList.append(val)\n",
    "\n",
    "print(\"The given list is : \")\n",
    "print(myList)"
   ]
  },
  {
   "cell_type": "code",
   "execution_count": 2,
   "metadata": {},
   "outputs": [
    {
     "name": "stdout",
     "output_type": "stream",
     "text": [
      " The sum of given values is :  313\n"
     ]
    }
   ],
   "source": [
    "myList = []\n",
    "\n",
    "for i in range(5):\n",
    "    val = input(\"Enter a value : \")\n",
    "    n = int(val)\n",
    "    myList.append(n)\n",
    "\n",
    "sum = 0\n",
    "for n in myList:\n",
    "    sum = sum+n\n",
    "\n",
    "print(\" The sum of given values is : \", sum)\n"
   ]
  },
  {
   "cell_type": "code",
   "execution_count": 3,
   "metadata": {},
   "outputs": [
    {
     "name": "stdout",
     "output_type": "stream",
     "text": [
      "[4, 5, 54, 555, 3335]\n"
     ]
    }
   ],
   "source": [
    "myList=[]\n",
    "\n",
    "for i in range(5):\n",
    "    val=input(\"Enter a value : \")\n",
    "    n=int(val)\n",
    "    myList.append(n)\n",
    "\n",
    "myList.sort()\n",
    "\n",
    "print(myList)"
   ]
  },
  {
   "cell_type": "code",
   "execution_count": 4,
   "metadata": {},
   "outputs": [
    {
     "name": "stdout",
     "output_type": "stream",
     "text": [
      "Enter Objects of 1st List : \n",
      "Enter Objects of 2nd List : \n",
      "[44, 55, 55, 5532, 332, 67, 34, 32, 2, 1]\n"
     ]
    }
   ],
   "source": [
    "myList1 = []\n",
    "\n",
    "print(\"Enter Objects of 1st List : \")\n",
    "\n",
    "for i in range(5):\n",
    "    val = input(\"Enter Value : \")\n",
    "    n = int(val)\n",
    "    myList1.append(n)\n",
    "\n",
    "myList2 = []\n",
    "\n",
    "print(\"Enter Objects of 2nd List : \")\n",
    "\n",
    "for i in range(5):\n",
    "    val = input(\"Enter Value : \")\n",
    "    n = int(val)\n",
    "    myList2.append(n)\n",
    "\n",
    "list3 = myList2+myList1\n",
    "\n",
    "print(list3)\n"
   ]
  },
  {
   "cell_type": "code",
   "execution_count": 5,
   "metadata": {},
   "outputs": [
    {
     "name": "stdout",
     "output_type": "stream",
     "text": [
      "Enter object of First List : \n",
      "[1, 3, 4, 4, 44]\n",
      "Found!\n"
     ]
    }
   ],
   "source": [
    "myList = []\n",
    "\n",
    "print(\"Enter object of First List : \")\n",
    "\n",
    "for i in range(5):\n",
    "    val = input(\"Enter Value : \")\n",
    "    n = int(val)\n",
    "    myList.append(n)\n",
    "\n",
    "s = input(\"Enter a Value to find in the list : \")\n",
    "print(myList)\n",
    "n = int(s)\n",
    "\n",
    "found = n in myList\n",
    "if found == True:\n",
    "    print(\"Found!\")\n",
    "else:\n",
    "    print(\"Not found!\")\n"
   ]
  },
  {
   "cell_type": "code",
   "execution_count": 6,
   "metadata": {},
   "outputs": [
    {
     "name": "stdout",
     "output_type": "stream",
     "text": [
      "Hello!  Saad\n",
      "Hello!  Ahmed\n",
      "Hello!  Soban\n"
     ]
    }
   ],
   "source": [
    "def say_hello(name):\n",
    "    print(\"Hello! \", name)\n",
    "\n",
    "say_hello(\"Saad\")\n",
    "say_hello(\"Ahmed\")\n",
    "say_hello(\"Soban\")\n"
   ]
  },
  {
   "cell_type": "code",
   "execution_count": 9,
   "metadata": {},
   "outputs": [
    {
     "name": "stdout",
     "output_type": "stream",
     "text": [
      "True\n"
     ]
    }
   ],
   "source": [
    "def isP(word):\n",
    "    word = input(\"Enter a Word : \")\n",
    "    temp = word[::-1]\n",
    "    if temp.capitalize() == word.capitalize():\n",
    "        return True\n",
    "    else:\n",
    "        return False\n",
    "\n",
    "\n",
    "print(isP(\"dead\"))\n"
   ]
  },
  {
   "cell_type": "code",
   "execution_count": 10,
   "metadata": {},
   "outputs": [
    {
     "name": "stdout",
     "output_type": "stream",
     "text": [
      "[[1, 4, 7], [2, 5, 8], [3, 6, 9]]\n"
     ]
    }
   ],
   "source": [
    "a = [[1, 0, 0], [0, 1, 0], [0, 0, 1]]\n",
    "b = [[1, 2, 3], [4, 5, 6], [7, 8, 9]]\n",
    "c = []\n",
    "\n",
    "for indrow in range(3):\n",
    "    c.append([])\n",
    "    for indcol in range(3):\n",
    "        c[indrow].append(0)\n",
    "        for indaux in range(3):\n",
    "            c[indrow][indcol] += a[indrow][indaux] * b[indcol][indaux]\n",
    "\n",
    "print(c)\n"
   ]
  },
  {
   "cell_type": "code",
   "execution_count": 11,
   "metadata": {},
   "outputs": [
    {
     "name": "stdout",
     "output_type": "stream",
     "text": [
      "26.637773650138623\n"
     ]
    }
   ],
   "source": [
    "def perimeter(listing):\n",
    "    leng = len(listing)\n",
    "    perimeter = 0\n",
    "    for i in range(0, leng - 1):\n",
    "        dist = (((listing[i][0]-listing[i+1][0])**2) + ((listing[i][1]-listing[i+1][1])**2))**0.5\n",
    "        perimeter = perimeter + dist\n",
    "        perimeter = perimeter + (((listing[0][0]-listing[leng - 1][0])**2) + ((listing[0][1]-listing[leng-1][1])**2))**0.5\n",
    "    return perimeter\n",
    "\n",
    "L = [(1, 3), (2, 7), (3, 9), (-1, 8)]\n",
    "print(perimeter(L))\n"
   ]
  },
  {
   "cell_type": "code",
   "execution_count": 12,
   "metadata": {},
   "outputs": [
    {
     "name": "stdout",
     "output_type": "stream",
     "text": [
      "{0, 1, 2, 6, 7, 8}\n",
      "{0, 1, 2, 6, 7, 8}\n",
      "{0, 1, 2, 6, 7, 8}\n",
      "{0, 1, 2, 6, 7, 8}\n",
      "{0, 1, 2, 6, 7, 8}\n"
     ]
    }
   ],
   "source": [
    "def symmdiff(a,b):\n",
    "     e = set() \n",
    "     for i in a:\n",
    "        if i not in b:\n",
    "            e.add(i)\n",
    "     for i in b:\n",
    "            if i not in a:\n",
    "             e.add(i)\n",
    "     return e\n",
    "\n",
    "set1 = {0,1,2,4,5}\n",
    "set2 = {4,5,6,7,8}\n",
    "\n",
    "print(symmdiff(set1,set2))\n",
    "\n",
    "print(set1.symmetric_difference(set2))\n",
    "print(set2.symmetric_difference(set1))\n",
    "\n",
    "print(set1^set2)\n",
    "print(set2^set1)"
   ]
  },
  {
   "cell_type": "code",
   "execution_count": 15,
   "metadata": {},
   "outputs": [
    {
     "name": "stdout",
     "output_type": "stream",
     "text": [
      "03480058526\n"
     ]
    }
   ],
   "source": [
    "sample = {(\"shoaib\", \"ali\"): \"03480058526\",\n",
    "          (\"aib\", \"li\"): \"03319051913\",\n",
    "          (\"sib\", \"ai\"): \"03119550093\", }\n",
    "\n",
    "firstName = input(\"Enter first name: \")\n",
    "lastname = input(\"Enter last name: \")\n",
    "\n",
    "searchTuple = (firstName, lastname)\n",
    "\n",
    "if searchTuple in sample:\n",
    "    print(sample[searchTuple])\n",
    "else:\n",
    "    print(\"name not found\")\n"
   ]
  }
 ],
 "metadata": {
  "kernelspec": {
   "display_name": "Python 3 (ipykernel)",
   "language": "python",
   "name": "python3"
  },
  "language_info": {
   "codemirror_mode": {
    "name": "ipython",
    "version": 3
   },
   "file_extension": ".py",
   "mimetype": "text/x-python",
   "name": "python",
   "nbconvert_exporter": "python",
   "pygments_lexer": "ipython3",
   "version": "3.11.5"
  },
  "orig_nbformat": 4
 },
 "nbformat": 4,
 "nbformat_minor": 2
}
